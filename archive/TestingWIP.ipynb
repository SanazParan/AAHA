{
 "cells": [
  {
   "cell_type": "code",
   "execution_count": 213,
   "metadata": {},
   "outputs": [],
   "source": [
    "# Dependencies\n",
    "import numpy as np\n",
    "import pandas as pd\n",
    "import matplotlib.pyplot as plt\n",
    "import requests\n",
    "import censusdata\n",
    "import re\n",
    "\n",
    "\n",
    "\n",
    "pd.set_option('display.expand_frame_repr', False)\n",
    "pd.set_option('display.precision', 2)\n",
    "\n",
    "\n",
    "\n"
   ]
  },
  {
   "cell_type": "code",
   "execution_count": 214,
   "metadata": {},
   "outputs": [],
   "source": [
    "#Define Funtions\n",
    "\n",
    "#Funcion For NonDigit Removing Characters from Row\n",
    "def remove_chars(s):\n",
    "    clean = re.sub('[^0-9]+', '', str(s))[-11:]\n",
    "    return clean\n",
    "\n",
    "# Set requirements to pull from Census API\n",
    "variablestopull = variables['Name'].tolist()\n",
    "listofcounties = ['121', '089']\n",
    "yearstopull = range(2012,2018,1)\n",
    "\n"
   ]
  },
  {
   "cell_type": "code",
   "execution_count": 215,
   "metadata": {},
   "outputs": [
    {
     "name": "stdout",
     "output_type": "stream",
     "text": [
      "                                                    B00001_001E  B00002_001E  B01001_001E  B01001_002E  B01001_003E  B01001_004E  B01001_005E  B01001_006E  B01001_007E  B01001_008E  B01001_009E  B01001_010E  B01001_011E  B01001_012E  B01001_013E  B01001_014E  year\n",
      "Census Tract 1, Fulton County, Georgia: Summary...        332.0        149.0         4225         2076          210          173          138           35            0            0           15           47           77           50          232          334  2012\n",
      "Census Tract 2, Fulton County, Georgia: Summary...        362.0        167.0         5807         3285          182          224          190           26           26            0           20            0          425          211          371          481  2012\n",
      "Census Tract 4, Fulton County, Georgia: Summary...        125.0         82.0         1741         1042           34           55           22            0           11            0            0           22          214           38          114           78  2012\n",
      "Census Tract 5, Fulton County, Georgia: Summary...        278.0        176.0         4422         2334           57          150           49           22           63           67            0          342          330          140          184          281  2012\n",
      "Census Tract 6, Fulton County, Georgia: Summary...        358.0        147.0         6321         3900           19           27           12           36          417          374          404         1059          833          150          161          145  2012\n"
     ]
    }
   ],
   "source": [
    "#Pull Census Data according to requirement above\n",
    "atlantadata = pd.DataFrame()\n",
    "\n",
    "for year in yearstopull:\n",
    "    for county in listofcounties:\n",
    "\n",
    "        newdata = censusdata.download('acs5', year, censusdata.censusgeo([('state', '13'), ('county', county), ('tract', '*')]),variablestopull)\n",
    "        type(newdata)\n",
    "        newdata['year'] = year\n",
    "        atlantadata = atlantadata.append(newdata)\n",
    "        \n",
    "        \n",
    "print(atlantadata.head())\n",
    "\n"
   ]
  },
  {
   "cell_type": "code",
   "execution_count": 100,
   "metadata": {},
   "outputs": [],
   "source": [
    "#Rename Column Headings from Code to Text\n",
    "for variable in variablestopull:\n",
    "    #print(variable)\n",
    "    renamevar1 = variables.loc[variables['Name']==variable]['Label'].iloc[0]\n",
    "    renamevar2 = variables.loc[variables['Name']==variable]['Concept'].iloc[0]\n",
    "    renamevar = renamevar2 + '_'+ renamevar1\n",
    "    #print(renamevar)\n",
    "    atlantadata = atlantadata.rename(columns={variable: renamevar})"
   ]
  },
  {
   "cell_type": "code",
   "execution_count": 222,
   "metadata": {},
   "outputs": [],
   "source": [
    "#Transform Index to create GeoID\n",
    "\n",
    "\n",
    "#Create GeoID Column\n",
    "atlantadata['Name2'] = atlantadata.index\n",
    "atlantadata['GeoID'] = atlantadata['Name2'].apply(remove_chars)\n",
    "atlantadata.drop(columns=['Name2'], inplace=True)\n",
    "\n",
    "\n",
    "\n",
    "atlantadata.to_csv('test.csv')"
   ]
  },
  {
   "cell_type": "code",
   "execution_count": 196,
   "metadata": {},
   "outputs": [
    {
     "data": {
      "text/html": [
       "<div>\n",
       "<style scoped>\n",
       "    .dataframe tbody tr th:only-of-type {\n",
       "        vertical-align: middle;\n",
       "    }\n",
       "\n",
       "    .dataframe tbody tr th {\n",
       "        vertical-align: top;\n",
       "    }\n",
       "\n",
       "    .dataframe thead th {\n",
       "        text-align: right;\n",
       "    }\n",
       "</style>\n",
       "<table border=\"1\" class=\"dataframe\">\n",
       "  <thead>\n",
       "    <tr style=\"text-align: right;\">\n",
       "      <th></th>\n",
       "      <th>A</th>\n",
       "      <th>B</th>\n",
       "      <th>C</th>\n",
       "    </tr>\n",
       "  </thead>\n",
       "  <tbody>\n",
       "    <tr>\n",
       "      <th>0</th>\n",
       "      <td>red78</td>\n",
       "      <td>square</td>\n",
       "      <td>235</td>\n",
       "    </tr>\n",
       "    <tr>\n",
       "      <th>1</th>\n",
       "      <td>green</td>\n",
       "      <td>circle</td>\n",
       "      <td>123</td>\n",
       "    </tr>\n",
       "    <tr>\n",
       "      <th>2</th>\n",
       "      <td>blue45</td>\n",
       "      <td>triangle</td>\n",
       "      <td>657</td>\n",
       "    </tr>\n",
       "  </tbody>\n",
       "</table>\n",
       "</div>"
      ],
      "text/plain": [
       "        A         B    C\n",
       "0   red78    square  235\n",
       "1   green    circle  123\n",
       "2  blue45  triangle  657"
      ]
     },
     "execution_count": 196,
     "metadata": {},
     "output_type": "execute_result"
    }
   ],
   "source": []
  },
  {
   "cell_type": "code",
   "execution_count": null,
   "metadata": {},
   "outputs": [],
   "source": []
  }
 ],
 "metadata": {
  "anaconda-cloud": {},
  "kernelspec": {
   "display_name": "Python (project1)",
   "language": "python",
   "name": "project1"
  },
  "language_info": {
   "codemirror_mode": {
    "name": "ipython",
    "version": 3
   },
   "file_extension": ".py",
   "mimetype": "text/x-python",
   "name": "python",
   "nbconvert_exporter": "python",
   "pygments_lexer": "ipython3",
   "version": "3.7.3"
  }
 },
 "nbformat": 4,
 "nbformat_minor": 1
}
